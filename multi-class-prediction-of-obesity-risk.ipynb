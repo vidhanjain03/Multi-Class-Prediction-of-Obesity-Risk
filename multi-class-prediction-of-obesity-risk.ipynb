{
 "cells": [
  {
   "cell_type": "code",
   "execution_count": 1,
   "id": "06fdb38f",
   "metadata": {
    "_cell_guid": "b1076dfc-b9ad-4769-8c92-a6c4dae69d19",
    "_uuid": "8f2839f25d086af736a60e9eeb907d3b93b6e0e5",
    "execution": {
     "iopub.execute_input": "2024-02-15T18:00:57.865639Z",
     "iopub.status.busy": "2024-02-15T18:00:57.864782Z",
     "iopub.status.idle": "2024-02-15T18:00:58.928230Z",
     "shell.execute_reply": "2024-02-15T18:00:58.926535Z"
    },
    "papermill": {
     "duration": 1.078382,
     "end_time": "2024-02-15T18:00:58.932199",
     "exception": false,
     "start_time": "2024-02-15T18:00:57.853817",
     "status": "completed"
    },
    "tags": []
   },
   "outputs": [
    {
     "name": "stdout",
     "output_type": "stream",
     "text": [
      "/kaggle/input/playground-series-s4e2/sample_submission.csv\n",
      "/kaggle/input/playground-series-s4e2/train.csv\n",
      "/kaggle/input/playground-series-s4e2/test.csv\n"
     ]
    }
   ],
   "source": [
    "# This Python 3 environment comes with many helpful analytics libraries installed\n",
    "# It is defined by the kaggle/python Docker image: https://github.com/kaggle/docker-python\n",
    "# For example, here's several helpful packages to load\n",
    "\n",
    "import numpy as np # linear algebra\n",
    "import pandas as pd # data processing, CSV file I/O (e.g. pd.read_csv)\n",
    "\n",
    "# Input data files are available in the read-only \"../input/\" directory\n",
    "# For example, running this (by clicking run or pressing Shift+Enter) will list all files under the input directory\n",
    "\n",
    "import os\n",
    "for dirname, _, filenames in os.walk('/kaggle/input'):\n",
    "    for filename in filenames:\n",
    "        print(os.path.join(dirname, filename))\n",
    "\n",
    "# You can write up to 20GB to the current directory (/kaggle/working/) that gets preserved as output when you create a version using \"Save & Run All\" \n",
    "# You can also write temporary files to /kaggle/temp/, but they won't be saved outside of the current session"
   ]
  },
  {
   "cell_type": "code",
   "execution_count": 2,
   "id": "541ba434",
   "metadata": {
    "execution": {
     "iopub.execute_input": "2024-02-15T18:00:58.954145Z",
     "iopub.status.busy": "2024-02-15T18:00:58.953558Z",
     "iopub.status.idle": "2024-02-15T18:00:59.092062Z",
     "shell.execute_reply": "2024-02-15T18:00:59.090592Z"
    },
    "papermill": {
     "duration": 0.153297,
     "end_time": "2024-02-15T18:00:59.095529",
     "exception": false,
     "start_time": "2024-02-15T18:00:58.942232",
     "status": "completed"
    },
    "tags": []
   },
   "outputs": [],
   "source": [
    "df = pd.read_csv('/kaggle/input/playground-series-s4e2/train.csv')"
   ]
  },
  {
   "cell_type": "code",
   "execution_count": 3,
   "id": "0c9bb208",
   "metadata": {
    "execution": {
     "iopub.execute_input": "2024-02-15T18:00:59.116478Z",
     "iopub.status.busy": "2024-02-15T18:00:59.116048Z",
     "iopub.status.idle": "2024-02-15T18:00:59.148704Z",
     "shell.execute_reply": "2024-02-15T18:00:59.147268Z"
    },
    "papermill": {
     "duration": 0.046515,
     "end_time": "2024-02-15T18:00:59.151534",
     "exception": false,
     "start_time": "2024-02-15T18:00:59.105019",
     "status": "completed"
    },
    "tags": []
   },
   "outputs": [
    {
     "data": {
      "text/html": [
       "<div>\n",
       "<style scoped>\n",
       "    .dataframe tbody tr th:only-of-type {\n",
       "        vertical-align: middle;\n",
       "    }\n",
       "\n",
       "    .dataframe tbody tr th {\n",
       "        vertical-align: top;\n",
       "    }\n",
       "\n",
       "    .dataframe thead th {\n",
       "        text-align: right;\n",
       "    }\n",
       "</style>\n",
       "<table border=\"1\" class=\"dataframe\">\n",
       "  <thead>\n",
       "    <tr style=\"text-align: right;\">\n",
       "      <th></th>\n",
       "      <th>id</th>\n",
       "      <th>Gender</th>\n",
       "      <th>Age</th>\n",
       "      <th>Height</th>\n",
       "      <th>Weight</th>\n",
       "      <th>family_history_with_overweight</th>\n",
       "      <th>FAVC</th>\n",
       "      <th>FCVC</th>\n",
       "      <th>NCP</th>\n",
       "      <th>CAEC</th>\n",
       "      <th>SMOKE</th>\n",
       "      <th>CH2O</th>\n",
       "      <th>SCC</th>\n",
       "      <th>FAF</th>\n",
       "      <th>TUE</th>\n",
       "      <th>CALC</th>\n",
       "      <th>MTRANS</th>\n",
       "      <th>NObeyesdad</th>\n",
       "    </tr>\n",
       "  </thead>\n",
       "  <tbody>\n",
       "    <tr>\n",
       "      <th>0</th>\n",
       "      <td>0</td>\n",
       "      <td>Male</td>\n",
       "      <td>24.443011</td>\n",
       "      <td>1.699998</td>\n",
       "      <td>81.669950</td>\n",
       "      <td>yes</td>\n",
       "      <td>yes</td>\n",
       "      <td>2.000000</td>\n",
       "      <td>2.983297</td>\n",
       "      <td>Sometimes</td>\n",
       "      <td>no</td>\n",
       "      <td>2.763573</td>\n",
       "      <td>no</td>\n",
       "      <td>0.000000</td>\n",
       "      <td>0.976473</td>\n",
       "      <td>Sometimes</td>\n",
       "      <td>Public_Transportation</td>\n",
       "      <td>Overweight_Level_II</td>\n",
       "    </tr>\n",
       "    <tr>\n",
       "      <th>1</th>\n",
       "      <td>1</td>\n",
       "      <td>Female</td>\n",
       "      <td>18.000000</td>\n",
       "      <td>1.560000</td>\n",
       "      <td>57.000000</td>\n",
       "      <td>yes</td>\n",
       "      <td>yes</td>\n",
       "      <td>2.000000</td>\n",
       "      <td>3.000000</td>\n",
       "      <td>Frequently</td>\n",
       "      <td>no</td>\n",
       "      <td>2.000000</td>\n",
       "      <td>no</td>\n",
       "      <td>1.000000</td>\n",
       "      <td>1.000000</td>\n",
       "      <td>no</td>\n",
       "      <td>Automobile</td>\n",
       "      <td>Normal_Weight</td>\n",
       "    </tr>\n",
       "    <tr>\n",
       "      <th>2</th>\n",
       "      <td>2</td>\n",
       "      <td>Female</td>\n",
       "      <td>18.000000</td>\n",
       "      <td>1.711460</td>\n",
       "      <td>50.165754</td>\n",
       "      <td>yes</td>\n",
       "      <td>yes</td>\n",
       "      <td>1.880534</td>\n",
       "      <td>1.411685</td>\n",
       "      <td>Sometimes</td>\n",
       "      <td>no</td>\n",
       "      <td>1.910378</td>\n",
       "      <td>no</td>\n",
       "      <td>0.866045</td>\n",
       "      <td>1.673584</td>\n",
       "      <td>no</td>\n",
       "      <td>Public_Transportation</td>\n",
       "      <td>Insufficient_Weight</td>\n",
       "    </tr>\n",
       "    <tr>\n",
       "      <th>3</th>\n",
       "      <td>3</td>\n",
       "      <td>Female</td>\n",
       "      <td>20.952737</td>\n",
       "      <td>1.710730</td>\n",
       "      <td>131.274851</td>\n",
       "      <td>yes</td>\n",
       "      <td>yes</td>\n",
       "      <td>3.000000</td>\n",
       "      <td>3.000000</td>\n",
       "      <td>Sometimes</td>\n",
       "      <td>no</td>\n",
       "      <td>1.674061</td>\n",
       "      <td>no</td>\n",
       "      <td>1.467863</td>\n",
       "      <td>0.780199</td>\n",
       "      <td>Sometimes</td>\n",
       "      <td>Public_Transportation</td>\n",
       "      <td>Obesity_Type_III</td>\n",
       "    </tr>\n",
       "    <tr>\n",
       "      <th>4</th>\n",
       "      <td>4</td>\n",
       "      <td>Male</td>\n",
       "      <td>31.641081</td>\n",
       "      <td>1.914186</td>\n",
       "      <td>93.798055</td>\n",
       "      <td>yes</td>\n",
       "      <td>yes</td>\n",
       "      <td>2.679664</td>\n",
       "      <td>1.971472</td>\n",
       "      <td>Sometimes</td>\n",
       "      <td>no</td>\n",
       "      <td>1.979848</td>\n",
       "      <td>no</td>\n",
       "      <td>1.967973</td>\n",
       "      <td>0.931721</td>\n",
       "      <td>Sometimes</td>\n",
       "      <td>Public_Transportation</td>\n",
       "      <td>Overweight_Level_II</td>\n",
       "    </tr>\n",
       "  </tbody>\n",
       "</table>\n",
       "</div>"
      ],
      "text/plain": [
       "   id  Gender        Age    Height      Weight family_history_with_overweight  \\\n",
       "0   0    Male  24.443011  1.699998   81.669950                            yes   \n",
       "1   1  Female  18.000000  1.560000   57.000000                            yes   \n",
       "2   2  Female  18.000000  1.711460   50.165754                            yes   \n",
       "3   3  Female  20.952737  1.710730  131.274851                            yes   \n",
       "4   4    Male  31.641081  1.914186   93.798055                            yes   \n",
       "\n",
       "  FAVC      FCVC       NCP        CAEC SMOKE      CH2O SCC       FAF  \\\n",
       "0  yes  2.000000  2.983297   Sometimes    no  2.763573  no  0.000000   \n",
       "1  yes  2.000000  3.000000  Frequently    no  2.000000  no  1.000000   \n",
       "2  yes  1.880534  1.411685   Sometimes    no  1.910378  no  0.866045   \n",
       "3  yes  3.000000  3.000000   Sometimes    no  1.674061  no  1.467863   \n",
       "4  yes  2.679664  1.971472   Sometimes    no  1.979848  no  1.967973   \n",
       "\n",
       "        TUE       CALC                 MTRANS           NObeyesdad  \n",
       "0  0.976473  Sometimes  Public_Transportation  Overweight_Level_II  \n",
       "1  1.000000         no             Automobile        Normal_Weight  \n",
       "2  1.673584         no  Public_Transportation  Insufficient_Weight  \n",
       "3  0.780199  Sometimes  Public_Transportation     Obesity_Type_III  \n",
       "4  0.931721  Sometimes  Public_Transportation  Overweight_Level_II  "
      ]
     },
     "execution_count": 3,
     "metadata": {},
     "output_type": "execute_result"
    }
   ],
   "source": [
    "df.head()"
   ]
  },
  {
   "cell_type": "code",
   "execution_count": 4,
   "id": "2476feef",
   "metadata": {
    "execution": {
     "iopub.execute_input": "2024-02-15T18:00:59.173692Z",
     "iopub.status.busy": "2024-02-15T18:00:59.173252Z",
     "iopub.status.idle": "2024-02-15T18:00:59.189004Z",
     "shell.execute_reply": "2024-02-15T18:00:59.187631Z"
    },
    "papermill": {
     "duration": 0.030933,
     "end_time": "2024-02-15T18:00:59.191822",
     "exception": false,
     "start_time": "2024-02-15T18:00:59.160889",
     "status": "completed"
    },
    "tags": []
   },
   "outputs": [
    {
     "name": "stdout",
     "output_type": "stream",
     "text": [
      "['Overweight_Level_II' 'Normal_Weight' 'Insufficient_Weight'\n",
      " 'Obesity_Type_III' 'Obesity_Type_II' 'Overweight_Level_I'\n",
      " 'Obesity_Type_I']\n",
      "(20758, 18)\n"
     ]
    }
   ],
   "source": [
    "print(df['NObeyesdad'].unique())\n",
    "\n",
    "print(df.shape)"
   ]
  },
  {
   "cell_type": "code",
   "execution_count": 5,
   "id": "a77f0e6d",
   "metadata": {
    "execution": {
     "iopub.execute_input": "2024-02-15T18:00:59.214366Z",
     "iopub.status.busy": "2024-02-15T18:00:59.213649Z",
     "iopub.status.idle": "2024-02-15T18:01:01.409145Z",
     "shell.execute_reply": "2024-02-15T18:01:01.407508Z"
    },
    "papermill": {
     "duration": 2.209721,
     "end_time": "2024-02-15T18:01:01.412316",
     "exception": false,
     "start_time": "2024-02-15T18:00:59.202595",
     "status": "completed"
    },
    "tags": []
   },
   "outputs": [],
   "source": [
    "from sklearn.model_selection import train_test_split\n",
    "from sklearn.preprocessing import StandardScaler, LabelEncoder\n",
    "from sklearn.ensemble import RandomForestClassifier\n",
    "from sklearn.metrics import confusion_matrix"
   ]
  },
  {
   "cell_type": "code",
   "execution_count": 6,
   "id": "af475560",
   "metadata": {
    "execution": {
     "iopub.execute_input": "2024-02-15T18:01:01.435989Z",
     "iopub.status.busy": "2024-02-15T18:01:01.435452Z",
     "iopub.status.idle": "2024-02-15T18:01:01.467152Z",
     "shell.execute_reply": "2024-02-15T18:01:01.465897Z"
    },
    "papermill": {
     "duration": 0.047355,
     "end_time": "2024-02-15T18:01:01.470330",
     "exception": false,
     "start_time": "2024-02-15T18:01:01.422975",
     "status": "completed"
    },
    "tags": []
   },
   "outputs": [
    {
     "data": {
      "text/plain": [
       "False"
      ]
     },
     "execution_count": 6,
     "metadata": {},
     "output_type": "execute_result"
    }
   ],
   "source": [
    "df.isnull().values.any()"
   ]
  },
  {
   "cell_type": "code",
   "execution_count": 7,
   "id": "8a5dd741",
   "metadata": {
    "execution": {
     "iopub.execute_input": "2024-02-15T18:01:01.493210Z",
     "iopub.status.busy": "2024-02-15T18:01:01.492087Z",
     "iopub.status.idle": "2024-02-15T18:01:01.502673Z",
     "shell.execute_reply": "2024-02-15T18:01:01.501267Z"
    },
    "papermill": {
     "duration": 0.026343,
     "end_time": "2024-02-15T18:01:01.506542",
     "exception": false,
     "start_time": "2024-02-15T18:01:01.480199",
     "status": "completed"
    },
    "tags": []
   },
   "outputs": [],
   "source": [
    "factor, label= pd.factorize(df['NObeyesdad'])\n",
    "df.NObeyesdad = factor"
   ]
  },
  {
   "cell_type": "code",
   "execution_count": 8,
   "id": "6d123a15",
   "metadata": {
    "execution": {
     "iopub.execute_input": "2024-02-15T18:01:01.534409Z",
     "iopub.status.busy": "2024-02-15T18:01:01.533320Z",
     "iopub.status.idle": "2024-02-15T18:01:01.550906Z",
     "shell.execute_reply": "2024-02-15T18:01:01.549357Z"
    },
    "papermill": {
     "duration": 0.035447,
     "end_time": "2024-02-15T18:01:01.554020",
     "exception": false,
     "start_time": "2024-02-15T18:01:01.518573",
     "status": "completed"
    },
    "tags": []
   },
   "outputs": [],
   "source": [
    "gender = pd.factorize(df['Gender'])\n",
    "df.Gender = gender[0]\n",
    "\n",
    "family_history_with_overweight = pd.factorize(df['family_history_with_overweight'])\n",
    "df.family_history_with_overweight = family_history_with_overweight[0]\n",
    "\n",
    "FAVC = pd.factorize(df['FAVC'])\n",
    "df.FAVC = FAVC[0]"
   ]
  },
  {
   "cell_type": "code",
   "execution_count": 9,
   "id": "7fcce3fa",
   "metadata": {
    "execution": {
     "iopub.execute_input": "2024-02-15T18:01:01.575802Z",
     "iopub.status.busy": "2024-02-15T18:01:01.575108Z",
     "iopub.status.idle": "2024-02-15T18:01:01.599232Z",
     "shell.execute_reply": "2024-02-15T18:01:01.598181Z"
    },
    "papermill": {
     "duration": 0.03803,
     "end_time": "2024-02-15T18:01:01.601993",
     "exception": false,
     "start_time": "2024-02-15T18:01:01.563963",
     "status": "completed"
    },
    "tags": []
   },
   "outputs": [],
   "source": [
    "CAEC = pd.factorize(df['CAEC'])\n",
    "df.CAEC = CAEC[0]\n",
    "\n",
    "SMOKE = pd.factorize(df['SMOKE'])\n",
    "df.SMOKE = SMOKE[0]\n",
    "\n",
    "SCC = pd.factorize(df['SCC'])\n",
    "df.SCC = SCC[0]\n",
    "\n",
    "CALC = pd.factorize(df['CALC'])\n",
    "df.CALC = CALC[0]\n",
    "\n",
    "MTRANS = pd.factorize(df['MTRANS'])\n",
    "df.MTRANS = MTRANS[0]"
   ]
  },
  {
   "cell_type": "code",
   "execution_count": 10,
   "id": "21e7fafa",
   "metadata": {
    "execution": {
     "iopub.execute_input": "2024-02-15T18:01:01.622494Z",
     "iopub.status.busy": "2024-02-15T18:01:01.622089Z",
     "iopub.status.idle": "2024-02-15T18:01:01.644282Z",
     "shell.execute_reply": "2024-02-15T18:01:01.643383Z"
    },
    "papermill": {
     "duration": 0.035046,
     "end_time": "2024-02-15T18:01:01.646472",
     "exception": false,
     "start_time": "2024-02-15T18:01:01.611426",
     "status": "completed"
    },
    "tags": []
   },
   "outputs": [
    {
     "data": {
      "text/html": [
       "<div>\n",
       "<style scoped>\n",
       "    .dataframe tbody tr th:only-of-type {\n",
       "        vertical-align: middle;\n",
       "    }\n",
       "\n",
       "    .dataframe tbody tr th {\n",
       "        vertical-align: top;\n",
       "    }\n",
       "\n",
       "    .dataframe thead th {\n",
       "        text-align: right;\n",
       "    }\n",
       "</style>\n",
       "<table border=\"1\" class=\"dataframe\">\n",
       "  <thead>\n",
       "    <tr style=\"text-align: right;\">\n",
       "      <th></th>\n",
       "      <th>id</th>\n",
       "      <th>Gender</th>\n",
       "      <th>Age</th>\n",
       "      <th>Height</th>\n",
       "      <th>Weight</th>\n",
       "      <th>family_history_with_overweight</th>\n",
       "      <th>FAVC</th>\n",
       "      <th>FCVC</th>\n",
       "      <th>NCP</th>\n",
       "      <th>CAEC</th>\n",
       "      <th>SMOKE</th>\n",
       "      <th>CH2O</th>\n",
       "      <th>SCC</th>\n",
       "      <th>FAF</th>\n",
       "      <th>TUE</th>\n",
       "      <th>CALC</th>\n",
       "      <th>MTRANS</th>\n",
       "      <th>NObeyesdad</th>\n",
       "    </tr>\n",
       "  </thead>\n",
       "  <tbody>\n",
       "    <tr>\n",
       "      <th>0</th>\n",
       "      <td>0</td>\n",
       "      <td>0</td>\n",
       "      <td>24.443011</td>\n",
       "      <td>1.699998</td>\n",
       "      <td>81.669950</td>\n",
       "      <td>0</td>\n",
       "      <td>0</td>\n",
       "      <td>2.000000</td>\n",
       "      <td>2.983297</td>\n",
       "      <td>0</td>\n",
       "      <td>0</td>\n",
       "      <td>2.763573</td>\n",
       "      <td>0</td>\n",
       "      <td>0.000000</td>\n",
       "      <td>0.976473</td>\n",
       "      <td>0</td>\n",
       "      <td>0</td>\n",
       "      <td>0</td>\n",
       "    </tr>\n",
       "    <tr>\n",
       "      <th>1</th>\n",
       "      <td>1</td>\n",
       "      <td>1</td>\n",
       "      <td>18.000000</td>\n",
       "      <td>1.560000</td>\n",
       "      <td>57.000000</td>\n",
       "      <td>0</td>\n",
       "      <td>0</td>\n",
       "      <td>2.000000</td>\n",
       "      <td>3.000000</td>\n",
       "      <td>1</td>\n",
       "      <td>0</td>\n",
       "      <td>2.000000</td>\n",
       "      <td>0</td>\n",
       "      <td>1.000000</td>\n",
       "      <td>1.000000</td>\n",
       "      <td>1</td>\n",
       "      <td>1</td>\n",
       "      <td>1</td>\n",
       "    </tr>\n",
       "    <tr>\n",
       "      <th>2</th>\n",
       "      <td>2</td>\n",
       "      <td>1</td>\n",
       "      <td>18.000000</td>\n",
       "      <td>1.711460</td>\n",
       "      <td>50.165754</td>\n",
       "      <td>0</td>\n",
       "      <td>0</td>\n",
       "      <td>1.880534</td>\n",
       "      <td>1.411685</td>\n",
       "      <td>0</td>\n",
       "      <td>0</td>\n",
       "      <td>1.910378</td>\n",
       "      <td>0</td>\n",
       "      <td>0.866045</td>\n",
       "      <td>1.673584</td>\n",
       "      <td>1</td>\n",
       "      <td>0</td>\n",
       "      <td>2</td>\n",
       "    </tr>\n",
       "    <tr>\n",
       "      <th>3</th>\n",
       "      <td>3</td>\n",
       "      <td>1</td>\n",
       "      <td>20.952737</td>\n",
       "      <td>1.710730</td>\n",
       "      <td>131.274851</td>\n",
       "      <td>0</td>\n",
       "      <td>0</td>\n",
       "      <td>3.000000</td>\n",
       "      <td>3.000000</td>\n",
       "      <td>0</td>\n",
       "      <td>0</td>\n",
       "      <td>1.674061</td>\n",
       "      <td>0</td>\n",
       "      <td>1.467863</td>\n",
       "      <td>0.780199</td>\n",
       "      <td>0</td>\n",
       "      <td>0</td>\n",
       "      <td>3</td>\n",
       "    </tr>\n",
       "    <tr>\n",
       "      <th>4</th>\n",
       "      <td>4</td>\n",
       "      <td>0</td>\n",
       "      <td>31.641081</td>\n",
       "      <td>1.914186</td>\n",
       "      <td>93.798055</td>\n",
       "      <td>0</td>\n",
       "      <td>0</td>\n",
       "      <td>2.679664</td>\n",
       "      <td>1.971472</td>\n",
       "      <td>0</td>\n",
       "      <td>0</td>\n",
       "      <td>1.979848</td>\n",
       "      <td>0</td>\n",
       "      <td>1.967973</td>\n",
       "      <td>0.931721</td>\n",
       "      <td>0</td>\n",
       "      <td>0</td>\n",
       "      <td>0</td>\n",
       "    </tr>\n",
       "  </tbody>\n",
       "</table>\n",
       "</div>"
      ],
      "text/plain": [
       "   id  Gender        Age    Height      Weight  \\\n",
       "0   0       0  24.443011  1.699998   81.669950   \n",
       "1   1       1  18.000000  1.560000   57.000000   \n",
       "2   2       1  18.000000  1.711460   50.165754   \n",
       "3   3       1  20.952737  1.710730  131.274851   \n",
       "4   4       0  31.641081  1.914186   93.798055   \n",
       "\n",
       "   family_history_with_overweight  FAVC      FCVC       NCP  CAEC  SMOKE  \\\n",
       "0                               0     0  2.000000  2.983297     0      0   \n",
       "1                               0     0  2.000000  3.000000     1      0   \n",
       "2                               0     0  1.880534  1.411685     0      0   \n",
       "3                               0     0  3.000000  3.000000     0      0   \n",
       "4                               0     0  2.679664  1.971472     0      0   \n",
       "\n",
       "       CH2O  SCC       FAF       TUE  CALC  MTRANS  NObeyesdad  \n",
       "0  2.763573    0  0.000000  0.976473     0       0           0  \n",
       "1  2.000000    0  1.000000  1.000000     1       1           1  \n",
       "2  1.910378    0  0.866045  1.673584     1       0           2  \n",
       "3  1.674061    0  1.467863  0.780199     0       0           3  \n",
       "4  1.979848    0  1.967973  0.931721     0       0           0  "
      ]
     },
     "execution_count": 10,
     "metadata": {},
     "output_type": "execute_result"
    }
   ],
   "source": [
    "df.head()"
   ]
  },
  {
   "cell_type": "code",
   "execution_count": 11,
   "id": "5c96be40",
   "metadata": {
    "execution": {
     "iopub.execute_input": "2024-02-15T18:01:01.670850Z",
     "iopub.status.busy": "2024-02-15T18:01:01.669795Z",
     "iopub.status.idle": "2024-02-15T18:01:01.690809Z",
     "shell.execute_reply": "2024-02-15T18:01:01.689707Z"
    },
    "papermill": {
     "duration": 0.037116,
     "end_time": "2024-02-15T18:01:01.693738",
     "exception": false,
     "start_time": "2024-02-15T18:01:01.656622",
     "status": "completed"
    },
    "tags": []
   },
   "outputs": [],
   "source": [
    "x = df[df.columns[1:17]]\n",
    "y = df['NObeyesdad']"
   ]
  },
  {
   "cell_type": "code",
   "execution_count": 12,
   "id": "b12bf6fc",
   "metadata": {
    "execution": {
     "iopub.execute_input": "2024-02-15T18:01:01.718009Z",
     "iopub.status.busy": "2024-02-15T18:01:01.716512Z",
     "iopub.status.idle": "2024-02-15T18:01:01.735788Z",
     "shell.execute_reply": "2024-02-15T18:01:01.734105Z"
    },
    "papermill": {
     "duration": 0.033368,
     "end_time": "2024-02-15T18:01:01.738655",
     "exception": false,
     "start_time": "2024-02-15T18:01:01.705287",
     "status": "completed"
    },
    "tags": []
   },
   "outputs": [],
   "source": [
    "X_train, X_test, y_train, y_test = train_test_split(x, y, test_size = 0.20, random_state = 21)"
   ]
  },
  {
   "cell_type": "code",
   "execution_count": 13,
   "id": "7937c0a3",
   "metadata": {
    "execution": {
     "iopub.execute_input": "2024-02-15T18:01:01.765485Z",
     "iopub.status.busy": "2024-02-15T18:01:01.764699Z",
     "iopub.status.idle": "2024-02-15T18:01:02.214323Z",
     "shell.execute_reply": "2024-02-15T18:01:02.212981Z"
    },
    "papermill": {
     "duration": 0.468811,
     "end_time": "2024-02-15T18:01:02.218238",
     "exception": false,
     "start_time": "2024-02-15T18:01:01.749427",
     "status": "completed"
    },
    "tags": []
   },
   "outputs": [
    {
     "data": {
      "text/html": [
       "<style>#sk-container-id-1 {color: black;background-color: white;}#sk-container-id-1 pre{padding: 0;}#sk-container-id-1 div.sk-toggleable {background-color: white;}#sk-container-id-1 label.sk-toggleable__label {cursor: pointer;display: block;width: 100%;margin-bottom: 0;padding: 0.3em;box-sizing: border-box;text-align: center;}#sk-container-id-1 label.sk-toggleable__label-arrow:before {content: \"▸\";float: left;margin-right: 0.25em;color: #696969;}#sk-container-id-1 label.sk-toggleable__label-arrow:hover:before {color: black;}#sk-container-id-1 div.sk-estimator:hover label.sk-toggleable__label-arrow:before {color: black;}#sk-container-id-1 div.sk-toggleable__content {max-height: 0;max-width: 0;overflow: hidden;text-align: left;background-color: #f0f8ff;}#sk-container-id-1 div.sk-toggleable__content pre {margin: 0.2em;color: black;border-radius: 0.25em;background-color: #f0f8ff;}#sk-container-id-1 input.sk-toggleable__control:checked~div.sk-toggleable__content {max-height: 200px;max-width: 100%;overflow: auto;}#sk-container-id-1 input.sk-toggleable__control:checked~label.sk-toggleable__label-arrow:before {content: \"▾\";}#sk-container-id-1 div.sk-estimator input.sk-toggleable__control:checked~label.sk-toggleable__label {background-color: #d4ebff;}#sk-container-id-1 div.sk-label input.sk-toggleable__control:checked~label.sk-toggleable__label {background-color: #d4ebff;}#sk-container-id-1 input.sk-hidden--visually {border: 0;clip: rect(1px 1px 1px 1px);clip: rect(1px, 1px, 1px, 1px);height: 1px;margin: -1px;overflow: hidden;padding: 0;position: absolute;width: 1px;}#sk-container-id-1 div.sk-estimator {font-family: monospace;background-color: #f0f8ff;border: 1px dotted black;border-radius: 0.25em;box-sizing: border-box;margin-bottom: 0.5em;}#sk-container-id-1 div.sk-estimator:hover {background-color: #d4ebff;}#sk-container-id-1 div.sk-parallel-item::after {content: \"\";width: 100%;border-bottom: 1px solid gray;flex-grow: 1;}#sk-container-id-1 div.sk-label:hover label.sk-toggleable__label {background-color: #d4ebff;}#sk-container-id-1 div.sk-serial::before {content: \"\";position: absolute;border-left: 1px solid gray;box-sizing: border-box;top: 0;bottom: 0;left: 50%;z-index: 0;}#sk-container-id-1 div.sk-serial {display: flex;flex-direction: column;align-items: center;background-color: white;padding-right: 0.2em;padding-left: 0.2em;position: relative;}#sk-container-id-1 div.sk-item {position: relative;z-index: 1;}#sk-container-id-1 div.sk-parallel {display: flex;align-items: stretch;justify-content: center;background-color: white;position: relative;}#sk-container-id-1 div.sk-item::before, #sk-container-id-1 div.sk-parallel-item::before {content: \"\";position: absolute;border-left: 1px solid gray;box-sizing: border-box;top: 0;bottom: 0;left: 50%;z-index: -1;}#sk-container-id-1 div.sk-parallel-item {display: flex;flex-direction: column;z-index: 1;position: relative;background-color: white;}#sk-container-id-1 div.sk-parallel-item:first-child::after {align-self: flex-end;width: 50%;}#sk-container-id-1 div.sk-parallel-item:last-child::after {align-self: flex-start;width: 50%;}#sk-container-id-1 div.sk-parallel-item:only-child::after {width: 0;}#sk-container-id-1 div.sk-dashed-wrapped {border: 1px dashed gray;margin: 0 0.4em 0.5em 0.4em;box-sizing: border-box;padding-bottom: 0.4em;background-color: white;}#sk-container-id-1 div.sk-label label {font-family: monospace;font-weight: bold;display: inline-block;line-height: 1.2em;}#sk-container-id-1 div.sk-label-container {text-align: center;}#sk-container-id-1 div.sk-container {/* jupyter's `normalize.less` sets `[hidden] { display: none; }` but bootstrap.min.css set `[hidden] { display: none !important; }` so we also need the `!important` here to be able to override the default hidden behavior on the sphinx rendered scikit-learn.org. See: https://github.com/scikit-learn/scikit-learn/issues/21755 */display: inline-block !important;position: relative;}#sk-container-id-1 div.sk-text-repr-fallback {display: none;}</style><div id=\"sk-container-id-1\" class=\"sk-top-container\"><div class=\"sk-text-repr-fallback\"><pre>RandomForestClassifier(min_samples_leaf=5, n_estimators=15, random_state=40)</pre><b>In a Jupyter environment, please rerun this cell to show the HTML representation or trust the notebook. <br />On GitHub, the HTML representation is unable to render, please try loading this page with nbviewer.org.</b></div><div class=\"sk-container\" hidden><div class=\"sk-item\"><div class=\"sk-estimator sk-toggleable\"><input class=\"sk-toggleable__control sk-hidden--visually\" id=\"sk-estimator-id-1\" type=\"checkbox\" checked><label for=\"sk-estimator-id-1\" class=\"sk-toggleable__label sk-toggleable__label-arrow\">RandomForestClassifier</label><div class=\"sk-toggleable__content\"><pre>RandomForestClassifier(min_samples_leaf=5, n_estimators=15, random_state=40)</pre></div></div></div></div></div>"
      ],
      "text/plain": [
       "RandomForestClassifier(min_samples_leaf=5, n_estimators=15, random_state=40)"
      ]
     },
     "execution_count": 13,
     "metadata": {},
     "output_type": "execute_result"
    }
   ],
   "source": [
    "classifier = RandomForestClassifier(n_estimators = 15, min_samples_leaf = 5, criterion = 'gini', random_state = 40)\n",
    "classifier.fit(X_train, y_train)"
   ]
  },
  {
   "cell_type": "code",
   "execution_count": 14,
   "id": "fe21dc50",
   "metadata": {
    "execution": {
     "iopub.execute_input": "2024-02-15T18:01:02.241112Z",
     "iopub.status.busy": "2024-02-15T18:01:02.240675Z",
     "iopub.status.idle": "2024-02-15T18:01:02.264742Z",
     "shell.execute_reply": "2024-02-15T18:01:02.263457Z"
    },
    "papermill": {
     "duration": 0.039144,
     "end_time": "2024-02-15T18:01:02.267709",
     "exception": false,
     "start_time": "2024-02-15T18:01:02.228565",
     "status": "completed"
    },
    "tags": []
   },
   "outputs": [],
   "source": [
    "y_pred = classifier.predict(X_test)"
   ]
  },
  {
   "cell_type": "code",
   "execution_count": 15,
   "id": "1e286c66",
   "metadata": {
    "execution": {
     "iopub.execute_input": "2024-02-15T18:01:02.292712Z",
     "iopub.status.busy": "2024-02-15T18:01:02.292295Z",
     "iopub.status.idle": "2024-02-15T18:01:02.326702Z",
     "shell.execute_reply": "2024-02-15T18:01:02.325435Z"
    },
    "papermill": {
     "duration": 0.051288,
     "end_time": "2024-02-15T18:01:02.329555",
     "exception": false,
     "start_time": "2024-02-15T18:01:02.278267",
     "status": "completed"
    },
    "tags": []
   },
   "outputs": [
    {
     "data": {
      "text/html": [
       "<div>\n",
       "<style scoped>\n",
       "    .dataframe tbody tr th:only-of-type {\n",
       "        vertical-align: middle;\n",
       "    }\n",
       "\n",
       "    .dataframe tbody tr th {\n",
       "        vertical-align: top;\n",
       "    }\n",
       "\n",
       "    .dataframe thead th {\n",
       "        text-align: right;\n",
       "    }\n",
       "</style>\n",
       "<table border=\"1\" class=\"dataframe\">\n",
       "  <thead>\n",
       "    <tr style=\"text-align: right;\">\n",
       "      <th>Predicted</th>\n",
       "      <th>0</th>\n",
       "      <th>1</th>\n",
       "      <th>2</th>\n",
       "      <th>3</th>\n",
       "      <th>4</th>\n",
       "      <th>5</th>\n",
       "      <th>6</th>\n",
       "    </tr>\n",
       "    <tr>\n",
       "      <th>Actual</th>\n",
       "      <th></th>\n",
       "      <th></th>\n",
       "      <th></th>\n",
       "      <th></th>\n",
       "      <th></th>\n",
       "      <th></th>\n",
       "      <th></th>\n",
       "    </tr>\n",
       "  </thead>\n",
       "  <tbody>\n",
       "    <tr>\n",
       "      <th>0</th>\n",
       "      <td>412</td>\n",
       "      <td>16</td>\n",
       "      <td>0</td>\n",
       "      <td>0</td>\n",
       "      <td>0</td>\n",
       "      <td>38</td>\n",
       "      <td>25</td>\n",
       "    </tr>\n",
       "    <tr>\n",
       "      <th>1</th>\n",
       "      <td>8</td>\n",
       "      <td>567</td>\n",
       "      <td>41</td>\n",
       "      <td>0</td>\n",
       "      <td>0</td>\n",
       "      <td>15</td>\n",
       "      <td>0</td>\n",
       "    </tr>\n",
       "    <tr>\n",
       "      <th>2</th>\n",
       "      <td>0</td>\n",
       "      <td>35</td>\n",
       "      <td>484</td>\n",
       "      <td>0</td>\n",
       "      <td>0</td>\n",
       "      <td>0</td>\n",
       "      <td>0</td>\n",
       "    </tr>\n",
       "    <tr>\n",
       "      <th>3</th>\n",
       "      <td>0</td>\n",
       "      <td>0</td>\n",
       "      <td>1</td>\n",
       "      <td>817</td>\n",
       "      <td>1</td>\n",
       "      <td>0</td>\n",
       "      <td>0</td>\n",
       "    </tr>\n",
       "    <tr>\n",
       "      <th>4</th>\n",
       "      <td>2</td>\n",
       "      <td>0</td>\n",
       "      <td>0</td>\n",
       "      <td>0</td>\n",
       "      <td>586</td>\n",
       "      <td>0</td>\n",
       "      <td>19</td>\n",
       "    </tr>\n",
       "    <tr>\n",
       "      <th>5</th>\n",
       "      <td>69</td>\n",
       "      <td>57</td>\n",
       "      <td>1</td>\n",
       "      <td>0</td>\n",
       "      <td>0</td>\n",
       "      <td>347</td>\n",
       "      <td>12</td>\n",
       "    </tr>\n",
       "    <tr>\n",
       "      <th>6</th>\n",
       "      <td>40</td>\n",
       "      <td>4</td>\n",
       "      <td>1</td>\n",
       "      <td>3</td>\n",
       "      <td>20</td>\n",
       "      <td>13</td>\n",
       "      <td>518</td>\n",
       "    </tr>\n",
       "  </tbody>\n",
       "</table>\n",
       "</div>"
      ],
      "text/plain": [
       "Predicted    0    1    2    3    4    5    6\n",
       "Actual                                      \n",
       "0          412   16    0    0    0   38   25\n",
       "1            8  567   41    0    0   15    0\n",
       "2            0   35  484    0    0    0    0\n",
       "3            0    0    1  817    1    0    0\n",
       "4            2    0    0    0  586    0   19\n",
       "5           69   57    1    0    0  347   12\n",
       "6           40    4    1    3   20   13  518"
      ]
     },
     "execution_count": 15,
     "metadata": {},
     "output_type": "execute_result"
    }
   ],
   "source": [
    "pd.crosstab(y_test, y_pred,rownames=['Actual'], colnames=['Predicted'])"
   ]
  },
  {
   "cell_type": "code",
   "execution_count": 16,
   "id": "b75fb407",
   "metadata": {
    "execution": {
     "iopub.execute_input": "2024-02-15T18:01:02.355373Z",
     "iopub.status.busy": "2024-02-15T18:01:02.354951Z",
     "iopub.status.idle": "2024-02-15T18:01:02.436423Z",
     "shell.execute_reply": "2024-02-15T18:01:02.434472Z"
    },
    "papermill": {
     "duration": 0.098907,
     "end_time": "2024-02-15T18:01:02.439385",
     "exception": false,
     "start_time": "2024-02-15T18:01:02.340478",
     "status": "completed"
    },
    "tags": []
   },
   "outputs": [],
   "source": [
    "test_df = pd.read_csv('/kaggle/input/playground-series-s4e2/test.csv')"
   ]
  },
  {
   "cell_type": "code",
   "execution_count": 17,
   "id": "0ef0c7db",
   "metadata": {
    "execution": {
     "iopub.execute_input": "2024-02-15T18:01:02.464476Z",
     "iopub.status.busy": "2024-02-15T18:01:02.464065Z",
     "iopub.status.idle": "2024-02-15T18:01:02.490084Z",
     "shell.execute_reply": "2024-02-15T18:01:02.488796Z"
    },
    "papermill": {
     "duration": 0.040886,
     "end_time": "2024-02-15T18:01:02.492985",
     "exception": false,
     "start_time": "2024-02-15T18:01:02.452099",
     "status": "completed"
    },
    "tags": []
   },
   "outputs": [
    {
     "data": {
      "text/html": [
       "<div>\n",
       "<style scoped>\n",
       "    .dataframe tbody tr th:only-of-type {\n",
       "        vertical-align: middle;\n",
       "    }\n",
       "\n",
       "    .dataframe tbody tr th {\n",
       "        vertical-align: top;\n",
       "    }\n",
       "\n",
       "    .dataframe thead th {\n",
       "        text-align: right;\n",
       "    }\n",
       "</style>\n",
       "<table border=\"1\" class=\"dataframe\">\n",
       "  <thead>\n",
       "    <tr style=\"text-align: right;\">\n",
       "      <th></th>\n",
       "      <th>id</th>\n",
       "      <th>Gender</th>\n",
       "      <th>Age</th>\n",
       "      <th>Height</th>\n",
       "      <th>Weight</th>\n",
       "      <th>family_history_with_overweight</th>\n",
       "      <th>FAVC</th>\n",
       "      <th>FCVC</th>\n",
       "      <th>NCP</th>\n",
       "      <th>CAEC</th>\n",
       "      <th>SMOKE</th>\n",
       "      <th>CH2O</th>\n",
       "      <th>SCC</th>\n",
       "      <th>FAF</th>\n",
       "      <th>TUE</th>\n",
       "      <th>CALC</th>\n",
       "      <th>MTRANS</th>\n",
       "    </tr>\n",
       "  </thead>\n",
       "  <tbody>\n",
       "    <tr>\n",
       "      <th>0</th>\n",
       "      <td>20758</td>\n",
       "      <td>Male</td>\n",
       "      <td>26.899886</td>\n",
       "      <td>1.848294</td>\n",
       "      <td>120.644178</td>\n",
       "      <td>yes</td>\n",
       "      <td>yes</td>\n",
       "      <td>2.938616</td>\n",
       "      <td>3.000000</td>\n",
       "      <td>Sometimes</td>\n",
       "      <td>no</td>\n",
       "      <td>2.825629</td>\n",
       "      <td>no</td>\n",
       "      <td>0.855400</td>\n",
       "      <td>0.000000</td>\n",
       "      <td>Sometimes</td>\n",
       "      <td>Public_Transportation</td>\n",
       "    </tr>\n",
       "    <tr>\n",
       "      <th>1</th>\n",
       "      <td>20759</td>\n",
       "      <td>Female</td>\n",
       "      <td>21.000000</td>\n",
       "      <td>1.600000</td>\n",
       "      <td>66.000000</td>\n",
       "      <td>yes</td>\n",
       "      <td>yes</td>\n",
       "      <td>2.000000</td>\n",
       "      <td>1.000000</td>\n",
       "      <td>Sometimes</td>\n",
       "      <td>no</td>\n",
       "      <td>3.000000</td>\n",
       "      <td>no</td>\n",
       "      <td>1.000000</td>\n",
       "      <td>0.000000</td>\n",
       "      <td>Sometimes</td>\n",
       "      <td>Public_Transportation</td>\n",
       "    </tr>\n",
       "    <tr>\n",
       "      <th>2</th>\n",
       "      <td>20760</td>\n",
       "      <td>Female</td>\n",
       "      <td>26.000000</td>\n",
       "      <td>1.643355</td>\n",
       "      <td>111.600553</td>\n",
       "      <td>yes</td>\n",
       "      <td>yes</td>\n",
       "      <td>3.000000</td>\n",
       "      <td>3.000000</td>\n",
       "      <td>Sometimes</td>\n",
       "      <td>no</td>\n",
       "      <td>2.621877</td>\n",
       "      <td>no</td>\n",
       "      <td>0.000000</td>\n",
       "      <td>0.250502</td>\n",
       "      <td>Sometimes</td>\n",
       "      <td>Public_Transportation</td>\n",
       "    </tr>\n",
       "    <tr>\n",
       "      <th>3</th>\n",
       "      <td>20761</td>\n",
       "      <td>Male</td>\n",
       "      <td>20.979254</td>\n",
       "      <td>1.553127</td>\n",
       "      <td>103.669116</td>\n",
       "      <td>yes</td>\n",
       "      <td>yes</td>\n",
       "      <td>2.000000</td>\n",
       "      <td>2.977909</td>\n",
       "      <td>Sometimes</td>\n",
       "      <td>no</td>\n",
       "      <td>2.786417</td>\n",
       "      <td>no</td>\n",
       "      <td>0.094851</td>\n",
       "      <td>0.000000</td>\n",
       "      <td>Sometimes</td>\n",
       "      <td>Public_Transportation</td>\n",
       "    </tr>\n",
       "    <tr>\n",
       "      <th>4</th>\n",
       "      <td>20762</td>\n",
       "      <td>Female</td>\n",
       "      <td>26.000000</td>\n",
       "      <td>1.627396</td>\n",
       "      <td>104.835346</td>\n",
       "      <td>yes</td>\n",
       "      <td>yes</td>\n",
       "      <td>3.000000</td>\n",
       "      <td>3.000000</td>\n",
       "      <td>Sometimes</td>\n",
       "      <td>no</td>\n",
       "      <td>2.653531</td>\n",
       "      <td>no</td>\n",
       "      <td>0.000000</td>\n",
       "      <td>0.741069</td>\n",
       "      <td>Sometimes</td>\n",
       "      <td>Public_Transportation</td>\n",
       "    </tr>\n",
       "  </tbody>\n",
       "</table>\n",
       "</div>"
      ],
      "text/plain": [
       "      id  Gender        Age    Height      Weight  \\\n",
       "0  20758    Male  26.899886  1.848294  120.644178   \n",
       "1  20759  Female  21.000000  1.600000   66.000000   \n",
       "2  20760  Female  26.000000  1.643355  111.600553   \n",
       "3  20761    Male  20.979254  1.553127  103.669116   \n",
       "4  20762  Female  26.000000  1.627396  104.835346   \n",
       "\n",
       "  family_history_with_overweight FAVC      FCVC       NCP       CAEC SMOKE  \\\n",
       "0                            yes  yes  2.938616  3.000000  Sometimes    no   \n",
       "1                            yes  yes  2.000000  1.000000  Sometimes    no   \n",
       "2                            yes  yes  3.000000  3.000000  Sometimes    no   \n",
       "3                            yes  yes  2.000000  2.977909  Sometimes    no   \n",
       "4                            yes  yes  3.000000  3.000000  Sometimes    no   \n",
       "\n",
       "       CH2O SCC       FAF       TUE       CALC                 MTRANS  \n",
       "0  2.825629  no  0.855400  0.000000  Sometimes  Public_Transportation  \n",
       "1  3.000000  no  1.000000  0.000000  Sometimes  Public_Transportation  \n",
       "2  2.621877  no  0.000000  0.250502  Sometimes  Public_Transportation  \n",
       "3  2.786417  no  0.094851  0.000000  Sometimes  Public_Transportation  \n",
       "4  2.653531  no  0.000000  0.741069  Sometimes  Public_Transportation  "
      ]
     },
     "execution_count": 17,
     "metadata": {},
     "output_type": "execute_result"
    }
   ],
   "source": [
    "test_df.head()"
   ]
  },
  {
   "cell_type": "code",
   "execution_count": 18,
   "id": "66585bcc",
   "metadata": {
    "execution": {
     "iopub.execute_input": "2024-02-15T18:01:02.518468Z",
     "iopub.status.busy": "2024-02-15T18:01:02.518040Z",
     "iopub.status.idle": "2024-02-15T18:01:02.543227Z",
     "shell.execute_reply": "2024-02-15T18:01:02.541941Z"
    },
    "papermill": {
     "duration": 0.042647,
     "end_time": "2024-02-15T18:01:02.546598",
     "exception": false,
     "start_time": "2024-02-15T18:01:02.503951",
     "status": "completed"
    },
    "tags": []
   },
   "outputs": [],
   "source": [
    "gender = pd.factorize(test_df['Gender'])\n",
    "test_df.Gender = gender[0]\n",
    "\n",
    "family_history_with_overweight = pd.factorize(test_df['family_history_with_overweight'])\n",
    "test_df.family_history_with_overweight = family_history_with_overweight[0]\n",
    "\n",
    "FAVC = pd.factorize(test_df['FAVC'])\n",
    "test_df.FAVC = FAVC[0]\n",
    "\n",
    "CAEC = pd.factorize(test_df['CAEC'])\n",
    "test_df.CAEC = CAEC[0]\n",
    "\n",
    "SMOKE = pd.factorize(test_df['SMOKE'])\n",
    "test_df.SMOKE = SMOKE[0]\n",
    "\n",
    "SCC = pd.factorize(test_df['SCC'])\n",
    "test_df.SCC = SCC[0]\n",
    "\n",
    "CALC = pd.factorize(test_df['CALC'])\n",
    "test_df.CALC = CALC[0]\n",
    "\n",
    "MTRANS = pd.factorize(test_df['MTRANS'])\n",
    "test_df.MTRANS = MTRANS[0]"
   ]
  },
  {
   "cell_type": "code",
   "execution_count": 19,
   "id": "f0658c75",
   "metadata": {
    "execution": {
     "iopub.execute_input": "2024-02-15T18:01:02.570137Z",
     "iopub.status.busy": "2024-02-15T18:01:02.569523Z",
     "iopub.status.idle": "2024-02-15T18:01:02.617276Z",
     "shell.execute_reply": "2024-02-15T18:01:02.616342Z"
    },
    "papermill": {
     "duration": 0.062562,
     "end_time": "2024-02-15T18:01:02.620007",
     "exception": false,
     "start_time": "2024-02-15T18:01:02.557445",
     "status": "completed"
    },
    "tags": []
   },
   "outputs": [],
   "source": [
    "test_pred = classifier.predict(test_df[test_df.columns[1:]])"
   ]
  },
  {
   "cell_type": "code",
   "execution_count": 20,
   "id": "67e81218",
   "metadata": {
    "execution": {
     "iopub.execute_input": "2024-02-15T18:01:02.643497Z",
     "iopub.status.busy": "2024-02-15T18:01:02.642752Z",
     "iopub.status.idle": "2024-02-15T18:01:02.650203Z",
     "shell.execute_reply": "2024-02-15T18:01:02.648810Z"
    },
    "papermill": {
     "duration": 0.022654,
     "end_time": "2024-02-15T18:01:02.653266",
     "exception": false,
     "start_time": "2024-02-15T18:01:02.630612",
     "status": "completed"
    },
    "tags": []
   },
   "outputs": [
    {
     "data": {
      "text/plain": [
       "array([4, 5, 3, ..., 2, 1, 4])"
      ]
     },
     "execution_count": 20,
     "metadata": {},
     "output_type": "execute_result"
    }
   ],
   "source": [
    "test_pred"
   ]
  },
  {
   "cell_type": "code",
   "execution_count": 21,
   "id": "3919c133",
   "metadata": {
    "execution": {
     "iopub.execute_input": "2024-02-15T18:01:02.679019Z",
     "iopub.status.busy": "2024-02-15T18:01:02.678372Z",
     "iopub.status.idle": "2024-02-15T18:01:02.683020Z",
     "shell.execute_reply": "2024-02-15T18:01:02.681978Z"
    },
    "papermill": {
     "duration": 0.020552,
     "end_time": "2024-02-15T18:01:02.686594",
     "exception": false,
     "start_time": "2024-02-15T18:01:02.666042",
     "status": "completed"
    },
    "tags": []
   },
   "outputs": [],
   "source": [
    "test_predictions_labels = label[test_pred]"
   ]
  },
  {
   "cell_type": "code",
   "execution_count": 22,
   "id": "3be19fc7",
   "metadata": {
    "execution": {
     "iopub.execute_input": "2024-02-15T18:01:02.711169Z",
     "iopub.status.busy": "2024-02-15T18:01:02.710698Z",
     "iopub.status.idle": "2024-02-15T18:01:02.717688Z",
     "shell.execute_reply": "2024-02-15T18:01:02.716288Z"
    },
    "papermill": {
     "duration": 0.022289,
     "end_time": "2024-02-15T18:01:02.720554",
     "exception": false,
     "start_time": "2024-02-15T18:01:02.698265",
     "status": "completed"
    },
    "tags": []
   },
   "outputs": [],
   "source": [
    "submission_df = pd.DataFrame({'id': test_df.id, 'NObeyesdad': test_predictions_labels})"
   ]
  },
  {
   "cell_type": "code",
   "execution_count": 23,
   "id": "53e2741f",
   "metadata": {
    "execution": {
     "iopub.execute_input": "2024-02-15T18:01:02.744593Z",
     "iopub.status.busy": "2024-02-15T18:01:02.744154Z",
     "iopub.status.idle": "2024-02-15T18:01:02.756823Z",
     "shell.execute_reply": "2024-02-15T18:01:02.755467Z"
    },
    "papermill": {
     "duration": 0.027459,
     "end_time": "2024-02-15T18:01:02.759394",
     "exception": false,
     "start_time": "2024-02-15T18:01:02.731935",
     "status": "completed"
    },
    "tags": []
   },
   "outputs": [
    {
     "data": {
      "text/html": [
       "<div>\n",
       "<style scoped>\n",
       "    .dataframe tbody tr th:only-of-type {\n",
       "        vertical-align: middle;\n",
       "    }\n",
       "\n",
       "    .dataframe tbody tr th {\n",
       "        vertical-align: top;\n",
       "    }\n",
       "\n",
       "    .dataframe thead th {\n",
       "        text-align: right;\n",
       "    }\n",
       "</style>\n",
       "<table border=\"1\" class=\"dataframe\">\n",
       "  <thead>\n",
       "    <tr style=\"text-align: right;\">\n",
       "      <th></th>\n",
       "      <th>id</th>\n",
       "      <th>NObeyesdad</th>\n",
       "    </tr>\n",
       "  </thead>\n",
       "  <tbody>\n",
       "    <tr>\n",
       "      <th>0</th>\n",
       "      <td>20758</td>\n",
       "      <td>Obesity_Type_II</td>\n",
       "    </tr>\n",
       "    <tr>\n",
       "      <th>1</th>\n",
       "      <td>20759</td>\n",
       "      <td>Overweight_Level_I</td>\n",
       "    </tr>\n",
       "    <tr>\n",
       "      <th>2</th>\n",
       "      <td>20760</td>\n",
       "      <td>Obesity_Type_III</td>\n",
       "    </tr>\n",
       "    <tr>\n",
       "      <th>3</th>\n",
       "      <td>20761</td>\n",
       "      <td>Obesity_Type_I</td>\n",
       "    </tr>\n",
       "    <tr>\n",
       "      <th>4</th>\n",
       "      <td>20762</td>\n",
       "      <td>Obesity_Type_III</td>\n",
       "    </tr>\n",
       "    <tr>\n",
       "      <th>...</th>\n",
       "      <td>...</td>\n",
       "      <td>...</td>\n",
       "    </tr>\n",
       "    <tr>\n",
       "      <th>13835</th>\n",
       "      <td>34593</td>\n",
       "      <td>Overweight_Level_II</td>\n",
       "    </tr>\n",
       "    <tr>\n",
       "      <th>13836</th>\n",
       "      <td>34594</td>\n",
       "      <td>Normal_Weight</td>\n",
       "    </tr>\n",
       "    <tr>\n",
       "      <th>13837</th>\n",
       "      <td>34595</td>\n",
       "      <td>Insufficient_Weight</td>\n",
       "    </tr>\n",
       "    <tr>\n",
       "      <th>13838</th>\n",
       "      <td>34596</td>\n",
       "      <td>Normal_Weight</td>\n",
       "    </tr>\n",
       "    <tr>\n",
       "      <th>13839</th>\n",
       "      <td>34597</td>\n",
       "      <td>Obesity_Type_II</td>\n",
       "    </tr>\n",
       "  </tbody>\n",
       "</table>\n",
       "<p>13840 rows × 2 columns</p>\n",
       "</div>"
      ],
      "text/plain": [
       "          id           NObeyesdad\n",
       "0      20758      Obesity_Type_II\n",
       "1      20759   Overweight_Level_I\n",
       "2      20760     Obesity_Type_III\n",
       "3      20761       Obesity_Type_I\n",
       "4      20762     Obesity_Type_III\n",
       "...      ...                  ...\n",
       "13835  34593  Overweight_Level_II\n",
       "13836  34594        Normal_Weight\n",
       "13837  34595  Insufficient_Weight\n",
       "13838  34596        Normal_Weight\n",
       "13839  34597      Obesity_Type_II\n",
       "\n",
       "[13840 rows x 2 columns]"
      ]
     },
     "execution_count": 23,
     "metadata": {},
     "output_type": "execute_result"
    }
   ],
   "source": [
    "submission_df"
   ]
  },
  {
   "cell_type": "code",
   "execution_count": 24,
   "id": "0221d76d",
   "metadata": {
    "execution": {
     "iopub.execute_input": "2024-02-15T18:01:02.784717Z",
     "iopub.status.busy": "2024-02-15T18:01:02.784306Z",
     "iopub.status.idle": "2024-02-15T18:01:02.788886Z",
     "shell.execute_reply": "2024-02-15T18:01:02.787739Z"
    },
    "papermill": {
     "duration": 0.020288,
     "end_time": "2024-02-15T18:01:02.791363",
     "exception": false,
     "start_time": "2024-02-15T18:01:02.771075",
     "status": "completed"
    },
    "tags": []
   },
   "outputs": [],
   "source": [
    "# submission.to_csv('submission_df')"
   ]
  },
  {
   "cell_type": "code",
   "execution_count": null,
   "id": "23fee568",
   "metadata": {
    "papermill": {
     "duration": 0.010666,
     "end_time": "2024-02-15T18:01:02.813209",
     "exception": false,
     "start_time": "2024-02-15T18:01:02.802543",
     "status": "completed"
    },
    "tags": []
   },
   "outputs": [],
   "source": []
  }
 ],
 "metadata": {
  "kaggle": {
   "accelerator": "none",
   "dataSources": [
    {
     "databundleVersionId": 7609535,
     "sourceId": 68479,
     "sourceType": "competition"
    }
   ],
   "dockerImageVersionId": 30646,
   "isGpuEnabled": false,
   "isInternetEnabled": true,
   "language": "python",
   "sourceType": "notebook"
  },
  "kernelspec": {
   "display_name": "Python 3",
   "language": "python",
   "name": "python3"
  },
  "language_info": {
   "codemirror_mode": {
    "name": "ipython",
    "version": 3
   },
   "file_extension": ".py",
   "mimetype": "text/x-python",
   "name": "python",
   "nbconvert_exporter": "python",
   "pygments_lexer": "ipython3",
   "version": "3.10.13"
  },
  "papermill": {
   "default_parameters": {},
   "duration": 8.899689,
   "end_time": "2024-02-15T18:01:03.547564",
   "environment_variables": {},
   "exception": null,
   "input_path": "__notebook__.ipynb",
   "output_path": "__notebook__.ipynb",
   "parameters": {},
   "start_time": "2024-02-15T18:00:54.647875",
   "version": "2.5.0"
  }
 },
 "nbformat": 4,
 "nbformat_minor": 5
}
